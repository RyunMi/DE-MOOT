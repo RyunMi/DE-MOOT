{
 "cells": [
  {
   "cell_type": "code",
   "execution_count": 1,
   "metadata": {},
   "outputs": [],
   "source": [
    "import numpy as np\n",
    "np.seterr(divide='ignore', invalid='ignore')\n",
    "import pandas as pd"
   ]
  },
  {
   "cell_type": "code",
   "execution_count": 2,
   "metadata": {},
   "outputs": [],
   "source": [
    "O=pd.read_excel(io=r'../data/402-dataset.xlsx',sheet_name='Ordering',usecols=\"C:IH\").values\n",
    "S=pd.read_excel(io=r'../data/402-dataset.xlsx',sheet_name='Supply',usecols=\"C:IH\").values\n",
    "MT=np.diag(1./(pd.read_excel(io=r'../data/402-dataset.xlsx',sheet_name='Supply',usecols=\"B\").values.flatten()))\n",
    "O=np.dot(MT,O)\n",
    "S=np.dot(MT,S)"
   ]
  },
  {
   "cell_type": "code",
   "execution_count": 3,
   "metadata": {},
   "outputs": [],
   "source": [
    "feature_1 = ((S != 0).sum(axis = 1)/240)\n",
    "feature_2 = np.cbrt(np.max(S,axis=1)/np.max(S))\n",
    "a = (O-S)/O\n",
    "a[np.isinf(a)] = 0\n",
    "a[np.isnan(a)] = 0\n",
    "feature_3 = np.abs(1-np.average(np.abs(a),axis=1))\n",
    "feature_4 = np.sqrt(np.average(S,axis=1)/np.max(S,axis=1))"
   ]
  },
  {
   "cell_type": "code",
   "execution_count": 4,
   "metadata": {},
   "outputs": [],
   "source": [
    "Z=np.vstack((feature_1,feature_2,feature_3,feature_4)).T\n",
    "cmin=np.min(Z,axis=0)\n",
    "cmax=np.max(Z,axis=0)\n",
    "cmaxmin=cmax-cmin\n",
    "Z=(Z-cmin)/cmaxmin\n",
    "P=Z/np.sum(Z,axis=0)\n",
    "log_P=np.log(P)\n",
    "log_P[np.isinf(log_P)] = 0\n",
    "log_P[np.isnan(log_P)] = 0\n",
    "e=np.zeros(4)\n",
    "for i in [0,1,2,3]:\n",
    "    e[i]=np.dot(P[...,i].T,log_P[...,i])\n",
    "g=1-(-e/np.log(402))\n",
    "w=g/np.sum(g)"
   ]
  },
  {
   "cell_type": "code",
   "execution_count": 5,
   "metadata": {},
   "outputs": [],
   "source": [
    "r=np.corrcoef(Z.T)\n",
    "sigma=np.std(Z,axis=0)\n",
    "d=4*np.ones(4)-np.sum(r,axis=0)\n",
    "d=(g+sigma)*d\n",
    "w=d/np.sum(d)"
   ]
  },
  {
   "cell_type": "code",
   "execution_count": 6,
   "metadata": {},
   "outputs": [],
   "source": [
    "b=Z/np.linalg.norm(Z,axis=0)\n",
    "dream=np.max(b,axis=0)\n",
    "nodr=np.min(b,axis=0)\n",
    "sdream=np.linalg.norm(np.sqrt(w)*(b-dream),axis=1)\n",
    "snodr=np.linalg.norm(np.sqrt(w)*(b-nodr),axis=1)\n",
    "score=snodr/(sdream+snodr)\n",
    "df=np.sort(score)[::-1]\n",
    "ind=score.argsort()[::-1]"
   ]
  }
 ],
 "metadata": {
  "kernelspec": {
   "display_name": "Python 3.9.12 ('base')",
   "language": "python",
   "name": "python3"
  },
  "language_info": {
   "codemirror_mode": {
    "name": "ipython",
    "version": 3
   },
   "file_extension": ".py",
   "mimetype": "text/x-python",
   "name": "python",
   "nbconvert_exporter": "python",
   "pygments_lexer": "ipython3",
   "version": "3.9.12"
  },
  "orig_nbformat": 4,
  "vscode": {
   "interpreter": {
    "hash": "b09ec625f77bf4fd762565a912b97636504ad6ec901eb2d0f4cf5a7de23e1ee5"
   }
  }
 },
 "nbformat": 4,
 "nbformat_minor": 2
}
