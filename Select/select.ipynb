{
 "cells": [
  {
   "cell_type": "code",
   "execution_count": 1,
   "metadata": {},
   "outputs": [],
   "source": [
    "import numpy as np\n",
    "np.seterr(divide='ignore', invalid='ignore')\n",
    "import pandas as pd"
   ]
  },
  {
   "cell_type": "code",
   "execution_count": 9,
   "metadata": {},
   "outputs": [],
   "source": [
    "O=pd.read_excel(io=r'../data/402-dataset.xlsx',sheet_name='Ordering',usecols=\"C:IH\").values\n",
    "S=pd.read_excel(io=r'../data/402-dataset.xlsx',sheet_name='Supply',usecols=\"C:IH\").values\n",
    "MT=np.diag(1./(pd.read_excel(io=r'../data/402-dataset.xlsx',sheet_name='Supply',usecols=\"B\").values.flatten()))\n",
    "O=np.dot(MT,O)\n",
    "S=np.dot(MT,S)"
   ]
  },
  {
   "cell_type": "code",
   "execution_count": 10,
   "metadata": {},
   "outputs": [],
   "source": [
    "feature_1 = ((S != 0).sum(axis = 1)/240)\n",
    "feature_2 = np.cbrt(np.max(S,axis=1)/np.max(S))\n",
    "a = (O-S)/O\n",
    "a[np.isinf(a)] = 0\n",
    "a[np.isnan(a)] = 0\n",
    "feature_3 = np.abs(1-np.average(np.abs(a),axis=1))\n",
    "feature_4 = np.sqrt(np.average(S,axis=1)/np.max(S,axis=1))"
   ]
  },
  {
   "cell_type": "code",
   "execution_count": 11,
   "metadata": {},
   "outputs": [],
   "source": [
    "Z=np.vstack((feature_1,feature_2,feature_3,feature_4)).T\n",
    "cmin=np.min(Z,axis=0)\n",
    "cmax=np.max(Z,axis=0)\n",
    "cmaxmin=cmax-cmin\n",
    "Z=(Z-cmin)/cmaxmin\n",
    "P=Z/np.sum(Z,axis=0)\n",
    "log_P=np.log(P)\n",
    "log_P[np.isinf(log_P)] = 0\n",
    "log_P[np.isnan(log_P)] = 0\n",
    "e=np.zeros(4)\n",
    "for i in [0,1,2,3]:\n",
    "    e[i]=np.dot(P[...,i].T,log_P[...,i])\n",
    "g=1-(-e/np.log(402))\n",
    "w=g/np.sum(g)"
   ]
  },
  {
   "cell_type": "code",
   "execution_count": 12,
   "metadata": {},
   "outputs": [],
   "source": [
    "r=np.corrcoef(Z.T)\n",
    "sigma=np.std(Z,axis=0)\n",
    "d=4*np.ones(4)-np.sum(r,axis=0)\n",
    "d=(g+sigma)*d\n",
    "w=d/np.sum(d)"
   ]
  },
  {
   "cell_type": "code",
   "execution_count": 14,
   "metadata": {},
   "outputs": [
    {
     "data": {
      "text/plain": [
       "array([347, 150, 139, 373, 200, 107, 329, 307, 138, 228, 360, 306, 125,\n",
       "       281, 274, 328, 339, 130, 267, 394, 305, 355, 142, 193, 351, 246,\n",
       "        30,  36, 283, 364, 293, 345,  39, 363, 265,  54, 366,  79, 337,\n",
       "       243, 217, 113, 122,  85, 290,   6, 149,   2, 188,  73, 313,  75,\n",
       "       209,   4,  66,  97, 272, 212,  77,  45, 128, 291, 238, 171, 207,\n",
       "       137, 109, 153,  65,  24, 359, 223,  91, 396, 179, 156,  87, 174,\n",
       "       259, 220, 190, 375, 268, 255, 168, 215,  63, 391, 257, 201, 365,\n",
       "       173, 114, 112, 151, 294, 185, 145, 323, 244, 140, 262, 175, 196,\n",
       "       309,  22, 236, 213, 298, 210, 338, 361,  74, 350, 387, 303,  58,\n",
       "       317,  53, 299, 332, 269, 331, 148, 341, 233, 378, 172, 252,  52,\n",
       "       105,  29, 380, 226, 234, 177,  35, 111, 202,  32,  43, 263, 297,\n",
       "        38,  64,  15, 302, 187, 205, 192, 132, 224, 266, 271, 382, 146,\n",
       "        49, 357,  25, 352, 300, 218, 264, 304, 308,  61, 336,  72,  68,\n",
       "        13, 330, 235,  20, 249,  69, 385, 320, 164,  10,  86, 229, 356,\n",
       "         1, 270,  80, 134, 273,  59, 335, 326, 358, 348,  12, 278,  89,\n",
       "        26, 121, 231, 101, 115, 127, 198, 367, 143,  51,  98, 253, 189,\n",
       "       285, 295, 388, 314, 322, 131, 169, 315,  88, 203, 216, 116, 119,\n",
       "       123, 232, 344,  82, 254, 397,  48,  90, 258, 381, 287, 225, 354,\n",
       "       120, 181, 312, 222, 221, 162, 311, 369, 110, 152,  47, 104, 194,\n",
       "        71,  93, 376, 260, 135, 383, 183, 279,  34, 398, 141,  78, 362,\n",
       "       379, 248,  55,  95, 195,  41, 392,  27, 321,  23, 208,  31, 157,\n",
       "       158, 292,  40, 371,  84, 324, 340, 219, 251, 325, 155, 327, 241,\n",
       "       334, 170, 280, 108, 400, 106, 343,  60, 154,  16, 377, 389, 374,\n",
       "       353, 166, 126, 204,  14, 227,  17, 165,  56, 318,  76, 144, 206,\n",
       "       118, 368, 117, 103,   7,  96,  18, 288, 319, 133, 256, 124, 199,\n",
       "         5, 261, 390, 346,  81, 180, 240,  21,  19, 310,  42, 102,  50,\n",
       "       159,  92, 100, 370, 250, 393,  70,   9,  28, 167, 286, 247,  83,\n",
       "       147, 349, 245, 301, 277, 289, 237, 186, 372,  46, 163, 160, 242,\n",
       "        37, 191,  57,  62, 184, 384,  67, 333,   8, 275, 395, 211, 282,\n",
       "       197, 239, 176,  11, 129,  94, 136, 316, 342,   0,   3, 399, 296,\n",
       "        44, 230, 284, 214, 178, 386,  33, 401, 276,  99, 182, 161],\n",
       "      dtype=int64)"
      ]
     },
     "execution_count": 14,
     "metadata": {},
     "output_type": "execute_result"
    }
   ],
   "source": [
    "b=Z/np.linalg.norm(Z,axis=0)\n",
    "dream=np.max(b,axis=0)\n",
    "nodr=np.min(b,axis=0)\n",
    "sdream=np.linalg.norm(np.sqrt(w)*(b-dream),axis=1)\n",
    "snodr=np.linalg.norm(np.sqrt(w)*(b-nodr),axis=1)\n",
    "score=snodr/(sdream+snodr)\n",
    "df=np.sort(score)[::-1]\n",
    "ind=score.argsort()[::-1]"
   ]
  }
 ],
 "metadata": {
  "kernelspec": {
   "display_name": "Python 3.9.12 ('base')",
   "language": "python",
   "name": "python3"
  },
  "language_info": {
   "codemirror_mode": {
    "name": "ipython",
    "version": 3
   },
   "file_extension": ".py",
   "mimetype": "text/x-python",
   "name": "python",
   "nbconvert_exporter": "python",
   "pygments_lexer": "ipython3",
   "version": "3.9.12"
  },
  "orig_nbformat": 4,
  "vscode": {
   "interpreter": {
    "hash": "b09ec625f77bf4fd762565a912b97636504ad6ec901eb2d0f4cf5a7de23e1ee5"
   }
  }
 },
 "nbformat": 4,
 "nbformat_minor": 2
}
