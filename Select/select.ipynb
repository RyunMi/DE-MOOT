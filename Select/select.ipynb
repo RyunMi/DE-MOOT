{
 "cells": [
  {
   "cell_type": "code",
   "execution_count": 2,
   "metadata": {},
   "outputs": [],
   "source": [
    "import pandas as pd\n",
    "import numpy as np"
   ]
  },
  {
   "cell_type": "code",
   "execution_count": 3,
   "metadata": {},
   "outputs": [],
   "source": [
    "O=pd.read_excel(io='402-dataset.xlsx',sheet_name='Ordering',usecols=\"C:IH\").values\n",
    "S=pd.read_excel(io='402-dataset.xlsx',sheet_name='Supply',usecols=\"C:IH\").values"
   ]
  },
  {
   "cell_type": "code",
   "execution_count": 28,
   "metadata": {},
   "outputs": [
    {
     "name": "stderr",
     "output_type": "stream",
     "text": [
      "C:\\Users\\Administrator\\AppData\\Local\\Temp\\ipykernel_9936\\523022194.py:3: RuntimeWarning: invalid value encountered in true_divide\n",
      "  a = (O-S)/O\n"
     ]
    }
   ],
   "source": [
    "feature_1 = ((S != 0).sum(axis = 1)/240)\n",
    "feature_2 = np.cbrt(np.max(S,axis=1)/np.max(S))\n",
    "a = (O-S)/O\n",
    "a[np.isinf(a)] = 0\n",
    "a[np.isnan(a)] = 0\n",
    "feature_3 = np.abs(1-np.average(np.abs(a),axis=1))\n",
    "feature_4 = np.sqrt(np.average(S,axis=1)/np.max(S,axis=1))"
   ]
  },
  {
   "cell_type": "code",
   "execution_count": null,
   "metadata": {},
   "outputs": [],
   "source": []
  }
 ],
 "metadata": {
  "kernelspec": {
   "display_name": "Python 3.9.12 ('base')",
   "language": "python",
   "name": "python3"
  },
  "language_info": {
   "codemirror_mode": {
    "name": "ipython",
    "version": 3
   },
   "file_extension": ".py",
   "mimetype": "text/x-python",
   "name": "python",
   "nbconvert_exporter": "python",
   "pygments_lexer": "ipython3",
   "version": "3.9.12"
  },
  "orig_nbformat": 4,
  "vscode": {
   "interpreter": {
    "hash": "b09ec625f77bf4fd762565a912b97636504ad6ec901eb2d0f4cf5a7de23e1ee5"
   }
  }
 },
 "nbformat": 4,
 "nbformat_minor": 2
}
