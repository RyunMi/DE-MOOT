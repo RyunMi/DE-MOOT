{
 "cells": [
  {
   "cell_type": "code",
   "execution_count": 61,
   "metadata": {},
   "outputs": [],
   "source": [
    "import numpy as np\n",
    "import pandas as pd\n",
    "import sympy as sp\n",
    "from statsmodels.tsa.arima.model import ARIMA\n",
    "from statsmodels.tsa.stattools import adfuller\n",
    "import warnings\n",
    "from statsmodels.tools.sm_exceptions import ConvergenceWarning\n",
    "warnings.simplefilter('ignore', ConvergenceWarning)\n",
    "warnings.simplefilter('ignore', UserWarning)\n",
    "warnings.simplefilter('ignore', RuntimeWarning)"
   ]
  },
  {
   "cell_type": "code",
   "execution_count": null,
   "metadata": {},
   "outputs": [],
   "source": [
    "S=pd.read_excel(io=r'../data/402-dataset.xlsx',sheet_name='Supply',usecols=\"C:IH\").values\n",
    "F=pd.read_excel(io=r'../data/8-dataset.xlsx',sheet_name='Loss',usecols=\"B:IG\").values\n",
    "MT=np.diag(1./(pd.read_excel(io=r'../data/402-dataset.xlsx',sheet_name='Supply',usecols=\"B\").values.flatten()))\n",
    "S=np.dot(MT,S)\n",
    "supply=np.zeros((402,24,10))\n",
    "forwa=np.zeros((8,24,10))\n",
    "for i in range(402):\n",
    "    supply[i,:,:]=S[i,:].reshape(24,10)\n",
    "for j in range(8):\n",
    "    forwa[j,:,:]=F[j,:].reshape(24,10)"
   ]
  },
  {
   "cell_type": "code",
   "execution_count": null,
   "metadata": {},
   "outputs": [],
   "source": [
    "def GM_11(x):\n",
    "    n=len(x)\n",
    "    lamda=x[:-1]/x[1:]\n",
    "    rang=[lamda.min(), lamda.max()]\n",
    "    theta=[np.exp(-2/(n+1)),np.exp(2/(n+1))]\n",
    "    x0=x\n",
    "    if theta[0]<=rang[0] and rang[1]<=theta[1]:\n",
    "        c=0\n",
    "    else:\n",
    "        while True:\n",
    "            x0=x0+1\n",
    "            ratio=x0[:-1]/x0[1:]\n",
    "            if theta[0]<=ratio.min() and ratio.max()<=theta[1]:\n",
    "                break\n",
    "        c=x0[0]-x[0]\n",
    "    x=x+c\n",
    "    x1=np.cumsum(x)\n",
    "    z=0.5*(x1[1:]+x1[:-1])\n",
    "    B=np.vstack([-z,np.ones(n-1)]).T\n",
    "    u=np.linalg.pinv(B)@x[1:] \n",
    "    sp.var('t'); sp.var('xx',cls=sp.Function) \n",
    "    eq=xx(t).diff(t)+u[0]*xx(t)-u[1]  \n",
    "    s=sp.dsolve(eq,ics={xx(0):x0[0]})  \n",
    "    xt=s.args[1]\n",
    "    fxt=sp.lambdify(t,xt,'numpy') \n",
    "    fo1=fxt(np.arange(n))\n",
    "    fo=np.hstack([x[0],np.diff(fo1)]) \n",
    "    fo=fo-c\n",
    "    x=x-c\n",
    "    epsilon=x-fo\n",
    "    fo=fo[-1]\n",
    "    return fo,epsilon"
   ]
  },
  {
   "cell_type": "code",
   "execution_count": null,
   "metadata": {},
   "outputs": [],
   "source": [
    "def ARIMA_(x):\n",
    "    x0=x\n",
    "    n1=len(x)\n",
    "    di=0\n",
    "    while True:\n",
    "            if adfuller(x0)[1]>=0.5:\n",
    "                x0=np.diff(x0)\n",
    "                di=di+1\n",
    "            else:\n",
    "                break\n",
    "    n2=len(x0)\n",
    "    aicbic=np.empty([0,3])\n",
    "    for i in range(4):\n",
    "        for j in range(4):\n",
    "            if  i==0 and j==0:\n",
    "                continue\n",
    "            else:\n",
    "                model=ARIMA(x0, order=(i,0,j))\n",
    "                try:\n",
    "                    model=model.fit()\n",
    "                    aicbic=np.append(aicbic,[[i,j,model.aic+model.bic]],axis=0)\n",
    "                except BaseException:\n",
    "                    aicbic=np.append(aicbic,[[i,j,100]],axis=0)\n",
    "                    pass\n",
    "    index=np.where(aicbic==np.min(aicbic[:,2],axis=0))\n",
    "    mod=ARIMA(x0, order=(aicbic[index[0],0],0,aicbic[index[0],1]))\n",
    "    fo=mod.fit().forecast(n1+1-n2)\n",
    "    x_Fo=x[-1]+np.cumsum(fo)\n",
    "    return x_Fo[-1]"
   ]
  },
  {
   "cell_type": "code",
   "execution_count": null,
   "metadata": {},
   "outputs": [],
   "source": [
    "S_fo=np.zeros((24,402))\n",
    "F_fo=np.zeros((8,402))\n",
    "for k in range(402):\n",
    "    fc=np.zeros(24)\n",
    "    for l in range(24):\n",
    "        fo,epsilon=GM_11(supply[k,l,:])\n",
    "        epsilon=ARIMA(epsilon)\n",
    "        fc=fo+epsilon[-1]\n",
    "    S_fo[:,i]=fc\n",
    "for m in range(8):\n",
    "    fc=np.zeros(24)\n",
    "    for n in range(24):\n",
    "        fo,epsilon=GM_11(supply[m,n,:])\n",
    "        epsilon=ARIMA(epsilon)\n",
    "        fc=fo+epsilon[-1]\n",
    "    F_fo[:,i]=fc"
   ]
  },
  {
   "cell_type": "code",
   "execution_count": 63,
   "metadata": {},
   "outputs": [
    {
     "name": "stdout",
     "output_type": "stream",
     "text": [
      "1.8661074209135222\n",
      "[ 0.         -0.45361816  0.19048332  0.05057401  0.20345393  0.33752309\n",
      "  0.06528152 -0.25417076 -0.04933375 -0.09020742]\n"
     ]
    },
    {
     "data": {
      "text/plain": [
       "2.0163545452597513"
      ]
     },
     "execution_count": 63,
     "metadata": {},
     "output_type": "execute_result"
    }
   ],
   "source": [
    "# y1=np.array([1.5539, 1.4642, 2.1018, 1.9554, 2.1018, 2.2294,1.9507, 1.6248, 1.8232, 1.7759])\n",
    "# y2=np.array([1.639,2.0404,2.645,2.5033,2.3333,2.4372,2.2577,2.201,1.9649,1.6295])\n",
    "# a,b=GM_11(y1)\n",
    "# print(a)\n",
    "# print(b)\n",
    "# c=ARIMA_(b)\n",
    "# a+c"
   ]
  }
 ],
 "metadata": {
  "kernelspec": {
   "display_name": "Python 3.9.12 ('base')",
   "language": "python",
   "name": "python3"
  },
  "language_info": {
   "codemirror_mode": {
    "name": "ipython",
    "version": 3
   },
   "file_extension": ".py",
   "mimetype": "text/x-python",
   "name": "python",
   "nbconvert_exporter": "python",
   "pygments_lexer": "ipython3",
   "version": "3.9.12"
  },
  "orig_nbformat": 4,
  "vscode": {
   "interpreter": {
    "hash": "b09ec625f77bf4fd762565a912b97636504ad6ec901eb2d0f4cf5a7de23e1ee5"
   }
  }
 },
 "nbformat": 4,
 "nbformat_minor": 2
}
