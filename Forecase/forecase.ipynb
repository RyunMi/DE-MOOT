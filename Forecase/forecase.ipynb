{
 "cells": [
  {
   "cell_type": "code",
   "execution_count": 1,
   "metadata": {},
   "outputs": [],
   "source": [
    "import numpy as np\n",
    "import pandas as pd\n",
    "import sympy as sp\n",
    "from statsmodels.tsa.arima_model import ARIMA\n",
    "from statsmodels.tsa.stattools import kpss\n",
    "from statsmodels.tsa.stattools import adfuller\n",
    "from pmdarima.arima import auto_arima"
   ]
  },
  {
   "cell_type": "code",
   "execution_count": 12,
   "metadata": {},
   "outputs": [],
   "source": [
    "S=pd.read_excel(io=r'../data/402-dataset.xlsx',sheet_name='Supply',usecols=\"C:IH\").values\n",
    "F=pd.read_excel(io=r'../data/8-dataset.xlsx',sheet_name='Loss',usecols=\"B:IG\").values\n",
    "MT=np.diag(1./(pd.read_excel(io=r'../data/402-dataset.xlsx',sheet_name='Supply',usecols=\"B\").values.flatten()))\n",
    "S=np.dot(MT,S)\n",
    "supply=np.zeros((402,24,10))\n",
    "forwa=np.zeros((8,24,10))\n",
    "for i in range(402):\n",
    "    supply[i,:,:]=S[i,:].reshape(24,10)\n",
    "for j in range(8):\n",
    "    forwa[j,:,:]=F[j,:].reshape(24,10)"
   ]
  },
  {
   "cell_type": "code",
   "execution_count": 16,
   "metadata": {},
   "outputs": [],
   "source": [
    "def GM_11(x):\n",
    "    n=len(x)\n",
    "    lamda=x[:-1]/x[1:]\n",
    "    rang=[lamda.min(), lamda.max()]\n",
    "    theta=[np.exp(-2/(n+1)),np.exp(2/(n+1))]\n",
    "    x0=x\n",
    "    if theta[0]<=rang[0] and rang[1]<=theta[1]:\n",
    "        c=0\n",
    "    else:\n",
    "        while True:\n",
    "            x0=x0+1\n",
    "            ratio=x0[:-1]/x0[1:]\n",
    "            if theta[0]<=ratio.min() and ratio.max()<=theta[1]:\n",
    "                break\n",
    "        c=x0[0]-x[0]\n",
    "    x=x+c\n",
    "    x1=np.cumsum(x)\n",
    "    z=0.5*(x1[1:]+x1[:-1])\n",
    "    B=np.vstack([-x[1:],-z,np.ones(n-1)]).T\n",
    "    u=np.linalg.pinv(B)@np.diff(x)\n",
    "    sp.var('t'); sp.var('xx',cls=sp.Function)  \n",
    "    eq=xx(t).diff(t,2)+u[0]*xx(t).diff(t)+u[1]*xx(t)-u[2]\n",
    "    s=sp.dsolve(eq,ics={x(0):x[0],xx(5):x1[-1]})\n",
    "    xt=s.args[1]\n",
    "    fxt=sp.lambdify(t,xt,'numpy') \n",
    "    fo1=fxt(np.arange(n))\n",
    "    fo=np.hstack([x[0],np.diff(fo1)]) \n",
    "    fo=fo-c\n",
    "    x=x-c\n",
    "    epsilon=x.T-fo\n",
    "    fo=fo[-1]\n",
    "    return fo,epsilon"
   ]
  },
  {
   "cell_type": "code",
   "execution_count": 14,
   "metadata": {},
   "outputs": [],
   "source": [
    "def ARIMA(x):\n",
    "    x0=x\n",
    "    di=0\n",
    "    while True:\n",
    "        if kpss(x0,regression='ct')[0]>kpss(x0,regression='ct')[3]['5%']:\n",
    "            x0=np.diff(x0)\n",
    "            di=di+1\n",
    "        else:\n",
    "            break\n",
    "    model = auto_arima(x0, start_p=1, d=0, start_q=1,max_d=0,\n",
    "                       seasonal=False, test='adf',stepwise=False,stationary=True,\n",
    "                       error_action='ignore',transparams=False,\n",
    "                       information_criterion='aic',\n",
    "                       njob=-1, trace=True, suppress_warnings=True)\n",
    "    forecast = model.predict(n_periods=len(x)+1-len(x0))\n",
    "    fo=np.cumsum(forecast)\n",
    "    x_fo=x[-1]+fo[-1]\n",
    "    return x_fo\n",
    "#y1=np.array([1.5539, 1.4642, 2.1018, 1.9554, 2.1018, 2.2294,1.9507, 1.6248, 1.8232, 1.7759])\n",
    "#y2=np.array([1.639,2.0404,2.645,2.5033,2.3333,2.4372,2.2577,2.201,1.9649,1.6295])"
   ]
  },
  {
   "cell_type": "code",
   "execution_count": null,
   "metadata": {},
   "outputs": [],
   "source": [
    "S_fo=np.zeros((24,402))\n",
    "F_fo=np.zeros((8,402))\n",
    "for k in range(402):\n",
    "    fc=np.zeros(24)\n",
    "    for l in range(24):\n",
    "        fo,epsilon=GM_11(supply[k,l,:])\n",
    "        epsilon=ARIMA(epsilon)\n",
    "        fc=fo+epsilon[-1]\n",
    "    S_fo[:,i]=fc\n",
    "for m in range(8):\n",
    "    fc=np.zeros(24)\n",
    "    for n in range(24):\n",
    "        fo,epsilon=GM_11(supply[m,n,:])\n",
    "        epsilon=ARIMA(epsilon)\n",
    "        fc=fo+epsilon[-1]\n",
    "    F_fo[:,i]=fc"
   ]
  }
 ],
 "metadata": {
  "kernelspec": {
   "display_name": "Python 3.9.12 ('base')",
   "language": "python",
   "name": "python3"
  },
  "language_info": {
   "codemirror_mode": {
    "name": "ipython",
    "version": 3
   },
   "file_extension": ".py",
   "mimetype": "text/x-python",
   "name": "python",
   "nbconvert_exporter": "python",
   "pygments_lexer": "ipython3",
   "version": "3.9.12"
  },
  "orig_nbformat": 4,
  "vscode": {
   "interpreter": {
    "hash": "b09ec625f77bf4fd762565a912b97636504ad6ec901eb2d0f4cf5a7de23e1ee5"
   }
  }
 },
 "nbformat": 4,
 "nbformat_minor": 2
}
