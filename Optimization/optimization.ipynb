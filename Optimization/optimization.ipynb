{
 "cells": [
  {
   "cell_type": "code",
   "execution_count": 1,
   "metadata": {},
   "outputs": [],
   "source": [
    "import numpy as np\n",
    "np.seterr(divide='ignore', invalid='ignore')\n",
    "import pandas as pd\n",
    "import gurobipy as gp\n",
    "from gurobipy import GRB"
   ]
  },
  {
   "cell_type": "code",
   "execution_count": 2,
   "metadata": {},
   "outputs": [],
   "source": [
    "Cost_O=1\n",
    "Cost_SC=1\n",
    "M=40000\n",
    "S=pd.read_excel(io=r'../data/fo_result_402.xlsx',sheet_name='page_1',usecols=\"B:OM\").values.T\n",
    "L=pd.read_excel(io=r'../data/fo_result_8.xlsx',sheet_name='page_1',usecols=\"B:I\").values.T\n",
    "L=L/100\n",
    "MT=1./(pd.read_excel(io=r'../data/402-dataset.xlsx',sheet_name='Supply',usecols=\"B\").values.flatten())\n",
    "Pr=pd.read_excel(io=r'../data/402-dataset.xlsx',sheet_name='Supply',usecols=\"B\").replace([0.6,0.66,0.72],[1.2*Cost_O,1.1*Cost_O,1*Cost_O]).values.flatten()"
   ]
  },
  {
   "cell_type": "code",
   "execution_count": 3,
   "metadata": {},
   "outputs": [],
   "source": [
    "m = gp.Model(\"opt\")\n",
    "u0 = m.addVar(lb=0.0,vtype=GRB.INTEGER, name=\"u0\")\n",
    "v0 = m.addVar(lb=0.0,vtype=GRB.INTEGER, name=\"v0\")\n",
    "w0 = m.addVar(lb=0.0,vtype=GRB.INTEGER, name=\"w0\")\n",
    "xij = m.addMVar((402,24),lb=0.0,vtype=GRB.INTEGER,name='xij')\n",
    "zijk = m.addMVar((402,24,8),lb=0.0,vtype=GRB.INTEGER,name='zijk')\n",
    "u = m.addMVar(lb=0.0,shape=24,vtype=GRB.INTEGER, name='u')\n",
    "v = m.addMVar(lb=0.0,shape=24,vtype=GRB.INTEGER, name='v')\n",
    "w = m.addMVar(lb=0.0,shape=24,vtype=GRB.INTEGER, name='w')\n",
    "absolu1=m.addMVar((402,24,8),lb=0.0,vtype=GRB.INTEGER,name='abs1')\n",
    "absolu2=m.addMVar((402,24),lb=0.0,vtype=GRB.INTEGER,name='abs2')"
   ]
  },
  {
   "cell_type": "code",
   "execution_count": 4,
   "metadata": {},
   "outputs": [],
   "source": [
    "obj1=sum(Pr @ xij)\n",
    "m.setObjectiveN(obj1,index=0,name='obj1')\n",
    "obj2=sum(sum(L[:,j] @ zijk[:,j,:].T) for j in range(24))\n",
    "m.setObjectiveN(obj2,index=1,name='obj2')\n",
    "obj3=Cost_SC*(24*(u0+v0+w0)+sum(sum((1-L[:,t]) @ zijk[:,t,:].T)-(u[t]+v[t]+w[t]) for j in range(1,25) for t in range(j)))\n",
    "m.setObjectiveN(obj3,index=2,name='obj3')"
   ]
  },
  {
   "cell_type": "code",
   "execution_count": 5,
   "metadata": {},
   "outputs": [],
   "source": [
    "c1=m.addConstr((S <= xij), name=\"c1\")\n",
    "c2=m.addConstr((zijk.sum(axis=2) == xij), name='c2')\n",
    "c3=m.addConstr((zijk.sum(axis=0) <= 6000*np.ones((24,8))), name='c3')\n",
    "c41=m.addConstrs((absolu1[:,:,k] >= zijk[:,:,k]/M for k in range(8)), name='c41')\n",
    "c42=m.addConstrs((absolu1[:,:,k] <= zijk[:,:,k]/M+0.999 for k in range(8)), name='c42')\n",
    "c43=m.addConstr((absolu2 >= xij/6000), name='c43')\n",
    "c44=m.addConstr((absolu2 <= xij/6000+0.999), name='c44')\n",
    "c4=m.addConstr((absolu1.sum(axis=2) == absolu2), name='c4')\n",
    "c5=m.addConstr((u/0.6+v/0.66+w/0.72 == 28200*np.ones(24)), name='c5')\n",
    "for j in range(1,25):\n",
    "    for t in range(j):\n",
    "        ue=sum((1-L[:,t]) @ zijk[np.where(Pr==1.2)[0].tolist(),t,:].T)-u[t]\n",
    "        ve=sum((1-L[:,t]) @ zijk[np.where(Pr==1.1)[0].tolist(),t,:].T)-v[t]\n",
    "        we=sum((1-L[:,t]) @ zijk[np.where(Pr==1.0)[0].tolist(),t,:].T)-w[t]\n",
    "        m.addConstr(ue+u0 >= 0)\n",
    "        m.addConstr(ve+v0 >= 0)\n",
    "        m.addConstr(we+w0 >= 0)\n",
    "    m.addConstr((ue+u0)/0.6+(ve+v0)/0.66+(we+w0)/0.72 >= 56400)"
   ]
  },
  {
   "cell_type": "code",
   "execution_count": null,
   "metadata": {},
   "outputs": [],
   "source": [
    "m.Params.Threads=8\n",
    "m.write(\"model.lp\")\n",
    "m.optimize()"
   ]
  },
  {
   "cell_type": "code",
   "execution_count": null,
   "metadata": {},
   "outputs": [],
   "source": [
    "for i in range(m.NumObj):\n",
    "\tm.setParam(GRB.Param.ObjNumber, i)\n",
    "\tprint(f\"Obj {i+1} = {m.ObjNVal}\")\n",
    "x=np.zeros((402,24))\n",
    "for i in range(402):\n",
    "    for j in range(24):\n",
    "        x[i,j]=m.getVarByName('xij['+str(i)+','+str(j)+']').X"
   ]
  }
 ],
 "metadata": {
  "kernelspec": {
   "display_name": "Python 3.9.12 ('base')",
   "language": "python",
   "name": "python3"
  },
  "language_info": {
   "codemirror_mode": {
    "name": "ipython",
    "version": 3
   },
   "file_extension": ".py",
   "mimetype": "text/x-python",
   "name": "python",
   "nbconvert_exporter": "python",
   "pygments_lexer": "ipython3",
   "version": "3.9.12"
  },
  "orig_nbformat": 4,
  "vscode": {
   "interpreter": {
    "hash": "b09ec625f77bf4fd762565a912b97636504ad6ec901eb2d0f4cf5a7de23e1ee5"
   }
  }
 },
 "nbformat": 4,
 "nbformat_minor": 2
}
