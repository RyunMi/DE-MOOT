{
 "cells": [
  {
   "cell_type": "code",
   "execution_count": 1,
   "metadata": {},
   "outputs": [],
   "source": [
    "import numpy as np\n",
    "import math\n",
    "np.seterr(divide='ignore', invalid='ignore')\n",
    "import pandas as pd\n",
    "import gurobipy as gp\n",
    "from gurobipy import GRB"
   ]
  },
  {
   "cell_type": "code",
   "execution_count": 16,
   "metadata": {},
   "outputs": [],
   "source": [
    "Cost_O=1\n",
    "Cost_SC=1\n",
    "M=40000\n",
    "S=pd.read_excel(io=r'../data/fo_result_402.xlsx',sheet_name='page_1',usecols=\"B:OM\").values.T\n",
    "L=pd.read_excel(io=r'../data/fo_result_8.xlsx',sheet_name='page_1',usecols=\"B:I\").values.T\n",
    "L=L/100\n",
    "MT=1./(pd.read_excel(io=r'../data/402-dataset.xlsx',sheet_name='Supply',usecols=\"B\").values.flatten())\n",
    "Pr=pd.read_excel(io=r'../data/402-dataset.xlsx',sheet_name='Supply',usecols=\"B\").replace([0.6,0.66,0.72],[1.2*Cost_O,1.1*Cost_O,1*Cost_O]).values.flatten()"
   ]
  },
  {
   "cell_type": "code",
   "execution_count": 25,
   "metadata": {},
   "outputs": [],
   "source": [
    "m = gp.Model(\"opt\")\n",
    "#GRB.INTEGER\n",
    "u0 = m.addVar(lb=0.0,vtype=GRB.CONTINUOUS, name=\"u0\")\n",
    "v0 = m.addVar(lb=0.0,vtype=GRB.CONTINUOUS, name=\"v0\")\n",
    "w0 = m.addVar(lb=0.0,vtype=GRB.CONTINUOUS, name=\"w0\")\n",
    "xij = m.addMVar((402,24),lb=0.0,vtype=GRB.CONTINUOUS,name='xij')\n",
    "zijk = m.addMVar((402,24,8),lb=0.0,vtype=GRB.CONTINUOUS,name='zijk')\n",
    "u = m.addMVar(lb=0.0,shape=24,vtype=GRB.CONTINUOUS, name='u')\n",
    "v = m.addMVar(lb=0.0,shape=24,vtype=GRB.CONTINUOUS, name='v')\n",
    "w = m.addMVar(lb=0.0,shape=24,vtype=GRB.CONTINUOUS, name='w')\n",
    "absolu=m.addMVar((402,24,8),lb=0.0,vtype=GRB.INTEGER,name='abs')"
   ]
  },
  {
   "cell_type": "code",
   "execution_count": 14,
   "metadata": {},
   "outputs": [],
   "source": [
    "m.setObjectiveN(sum(Pr @ xij[:, j] for j in range(24)),index=0,name='obj1')\n",
    "m.setObjectiveN(sum(L[:,j] @ zijk[i,j,:] for i in range(402) for j in range(24)),index=1,name='obj2')\n",
    "he=sum(sum((1-L[:,t]) @ zijk[i,t,:] for i in range(402))-(u[t]+v[t]+w[t]) for j in range(1,25) for t in range(j))\n",
    "m.setObjectiveN(Cost_SC*(24*(u0+v0+w0)+he),index=2,name='obj3')"
   ]
  },
  {
   "cell_type": "code",
   "execution_count": null,
   "metadata": {},
   "outputs": [],
   "source": [
    "m.addConstrs((xij[:,j] <= S[:,j] for j in range(24)), name=\"c1\")\n",
    "m.addConstrs((sum(zijk[i,j,:]) == S[i,j] for i in range(402) for j in range(24)), name='c2')\n",
    "#m.addConstr(sum(MT @ xij[:, j] for j in range(24)) >= 28200, name='c3')\n",
    "m.addConstrs((sum(zijk[i,:,:]) <= 6000 for i in range(402)), name='c3')\n",
    "m.addConstrs((absolu[:,j,k] >= zijk[:,j,k]/M for j in range(24) for k in range(8)), name='c41')\n",
    "m.addConstrs((absolu[:,j,k] <= zijk[:,j,k]/M+0.999 for j in range(24) for k in range(8)), name='c42')\n",
    "m.addConstrs((sum(absolu[i,j,:]) == math.ceil(S[i,j]/6000) for j in range(24) for i in range(402)), name='c4')\n",
    "m.addConstrs((u[j]/0.6+v[j]/0.66+w[j]/0.72 == 28200 for j in range(24)), name='c5')\n",
    "m.addConstrs(name='c6')"
   ]
  }
 ],
 "metadata": {
  "kernelspec": {
   "display_name": "Python 3.9.12 ('base')",
   "language": "python",
   "name": "python3"
  },
  "language_info": {
   "codemirror_mode": {
    "name": "ipython",
    "version": 3
   },
   "file_extension": ".py",
   "mimetype": "text/x-python",
   "name": "python",
   "nbconvert_exporter": "python",
   "pygments_lexer": "ipython3",
   "version": "3.9.12"
  },
  "orig_nbformat": 4,
  "vscode": {
   "interpreter": {
    "hash": "b09ec625f77bf4fd762565a912b97636504ad6ec901eb2d0f4cf5a7de23e1ee5"
   }
  }
 },
 "nbformat": 4,
 "nbformat_minor": 2
}
